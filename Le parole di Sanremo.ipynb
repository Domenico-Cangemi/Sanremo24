{
 "cells": [
  {
   "cell_type": "markdown",
   "id": "14d127dc-d351-43ee-a8a2-7fe69180ad1a",
   "metadata": {},
   "source": [
    "# Le parole di Sanremo"
   ]
  },
  {
   "cell_type": "markdown",
   "id": "c00f035c-6b52-4884-aca4-c0206364c69a",
   "metadata": {},
   "source": [
    "**1. Le parole più frequenti nei testi di Sanremo**"
   ]
  },
  {
   "cell_type": "code",
   "execution_count": 83,
   "id": "ffb0ce7d-9c1b-47b4-9691-046abb6a8659",
   "metadata": {},
   "outputs": [],
   "source": [
    "from bs4 import BeautifulSoup as bs\n",
    "import requests\n",
    "import re\n",
    "from collections import Counter\n",
    "import pandas as pd"
   ]
  },
  {
   "cell_type": "markdown",
   "id": "73d11f67-c264-44e3-abfd-d1d9c331c462",
   "metadata": {},
   "source": [
    "- Una funzione per estrapolare il testo dalla pagina web, separare le parole e convertirle in minuscolo:"
   ]
  },
  {
   "cell_type": "code",
   "execution_count": 222,
   "id": "563b78d1-b945-4126-8897-cf7da98d45d8",
   "metadata": {},
   "outputs": [],
   "source": [
    "def song_to_words(link):\n",
    "    page = bs(requests.get(link).content)\n",
    "    text = re.sub('’', ' ', page.select('h2 ~ p')[0].get_text())\n",
    "    Song = re.split(' ', text)\n",
    "    song = [re.sub(r'\\W','',word.lower()) for word in Song]\n",
    "    return song"
   ]
  },
  {
   "cell_type": "markdown",
   "id": "afb72129-1853-4962-bf8a-b4bac992220a",
   "metadata": {},
   "source": [
    "- Creo una lista con i link di ogni canzone e una lista che contenga tutte le parole:"
   ]
  },
  {
   "cell_type": "code",
   "execution_count": 223,
   "id": "08d050c9-967b-40db-bf94-d18deec44b9e",
   "metadata": {},
   "outputs": [],
   "source": [
    "page = bs(requests.get('https://www.fanpage.it/spettacolo/eventi/i-testi-e-i-significati-delle-30-canzoni-in-gara-a-sanremo-2024/').content)\n",
    "songs = [x for x in set(page.select('p a')[1:])]\n",
    "links = [x['href'] for x in songs]"
   ]
  },
  {
   "cell_type": "code",
   "execution_count": 227,
   "id": "6b9f7506-115c-4d19-8c51-479e6ddd4e14",
   "metadata": {},
   "outputs": [],
   "source": [
    "words = []\n",
    "for link in links:\n",
    "    words += song_to_words(link)"
   ]
  },
  {
   "cell_type": "markdown",
   "id": "2edc9115-02f0-4b06-8eba-3d277b29c30f",
   "metadata": {},
   "source": [
    "- Creo un dataframe a partire dal dizionario Counter che conta le ricorrenze di ogni parola:"
   ]
  },
  {
   "cell_type": "code",
   "execution_count": 230,
   "id": "b71714a5-cb4a-494c-a6f1-4ca871e02bf9",
   "metadata": {},
   "outputs": [],
   "source": [
    "df = pd.DataFrame.from_dict(Counter(words), orient='index', columns=['Conteggio']).reset_index(names='Parola')"
   ]
  },
  {
   "cell_type": "code",
   "execution_count": 231,
   "id": "d24f323f-454c-4a50-85a3-25581ff69ea0",
   "metadata": {},
   "outputs": [
    {
     "data": {
      "text/html": [
       "<div>\n",
       "<style scoped>\n",
       "    .dataframe tbody tr th:only-of-type {\n",
       "        vertical-align: middle;\n",
       "    }\n",
       "\n",
       "    .dataframe tbody tr th {\n",
       "        vertical-align: top;\n",
       "    }\n",
       "\n",
       "    .dataframe thead th {\n",
       "        text-align: right;\n",
       "    }\n",
       "</style>\n",
       "<table border=\"1\" class=\"dataframe\">\n",
       "  <thead>\n",
       "    <tr style=\"text-align: right;\">\n",
       "      <th></th>\n",
       "      <th>Parola</th>\n",
       "      <th>Conteggio</th>\n",
       "    </tr>\n",
       "  </thead>\n",
       "  <tbody>\n",
       "    <tr>\n",
       "      <th>36</th>\n",
       "      <td>non</td>\n",
       "      <td>264</td>\n",
       "    </tr>\n",
       "    <tr>\n",
       "      <th>0</th>\n",
       "      <td>e</td>\n",
       "      <td>248</td>\n",
       "    </tr>\n",
       "    <tr>\n",
       "      <th>28</th>\n",
       "      <td>che</td>\n",
       "      <td>224</td>\n",
       "    </tr>\n",
       "    <tr>\n",
       "      <th>9</th>\n",
       "      <td>un</td>\n",
       "      <td>200</td>\n",
       "    </tr>\n",
       "    <tr>\n",
       "      <th>8</th>\n",
       "      <td>di</td>\n",
       "      <td>193</td>\n",
       "    </tr>\n",
       "    <tr>\n",
       "      <th>5</th>\n",
       "      <td>è</td>\n",
       "      <td>179</td>\n",
       "    </tr>\n",
       "    <tr>\n",
       "      <th>6</th>\n",
       "      <td>la</td>\n",
       "      <td>159</td>\n",
       "    </tr>\n",
       "    <tr>\n",
       "      <th>143</th>\n",
       "      <td>mi</td>\n",
       "      <td>142</td>\n",
       "    </tr>\n",
       "    <tr>\n",
       "      <th>70</th>\n",
       "      <td>ti</td>\n",
       "      <td>133</td>\n",
       "    </tr>\n",
       "    <tr>\n",
       "      <th>30</th>\n",
       "      <td>il</td>\n",
       "      <td>133</td>\n",
       "    </tr>\n",
       "    <tr>\n",
       "      <th>68</th>\n",
       "      <td>a</td>\n",
       "      <td>124</td>\n",
       "    </tr>\n",
       "    <tr>\n",
       "      <th>42</th>\n",
       "      <td>ma</td>\n",
       "      <td>122</td>\n",
       "    </tr>\n",
       "    <tr>\n",
       "      <th>86</th>\n",
       "      <td>se</td>\n",
       "      <td>108</td>\n",
       "    </tr>\n",
       "    <tr>\n",
       "      <th>212</th>\n",
       "      <td>me</td>\n",
       "      <td>93</td>\n",
       "    </tr>\n",
       "    <tr>\n",
       "      <th>20</th>\n",
       "      <td>in</td>\n",
       "      <td>93</td>\n",
       "    </tr>\n",
       "    <tr>\n",
       "      <th>34</th>\n",
       "      <td>per</td>\n",
       "      <td>90</td>\n",
       "    </tr>\n",
       "    <tr>\n",
       "      <th>313</th>\n",
       "      <td>tu</td>\n",
       "      <td>89</td>\n",
       "    </tr>\n",
       "    <tr>\n",
       "      <th>122</th>\n",
       "      <td>come</td>\n",
       "      <td>80</td>\n",
       "    </tr>\n",
       "    <tr>\n",
       "      <th>185</th>\n",
       "      <td>te</td>\n",
       "      <td>75</td>\n",
       "    </tr>\n",
       "    <tr>\n",
       "      <th>95</th>\n",
       "      <td>una</td>\n",
       "      <td>73</td>\n",
       "    </tr>\n",
       "  </tbody>\n",
       "</table>\n",
       "</div>"
      ],
      "text/plain": [
       "    Parola  Conteggio\n",
       "36     non        264\n",
       "0        e        248\n",
       "28     che        224\n",
       "9       un        200\n",
       "8       di        193\n",
       "5        è        179\n",
       "6       la        159\n",
       "143     mi        142\n",
       "70      ti        133\n",
       "30      il        133\n",
       "68       a        124\n",
       "42      ma        122\n",
       "86      se        108\n",
       "212     me         93\n",
       "20      in         93\n",
       "34     per         90\n",
       "313     tu         89\n",
       "122   come         80\n",
       "185     te         75\n",
       "95     una         73"
      ]
     },
     "execution_count": 231,
     "metadata": {},
     "output_type": "execute_result"
    }
   ],
   "source": [
    "df.sort_values(by=['Conteggio'], ascending=False).head(20)"
   ]
  },
  {
   "cell_type": "markdown",
   "id": "da3e42da-f9e0-4f4b-911f-5314133701eb",
   "metadata": {},
   "source": [
    "- Se vogliamo considerare le parole di almeno 4 caratteri:"
   ]
  },
  {
   "cell_type": "code",
   "execution_count": 243,
   "id": "99641b23-92ae-4d6c-b518-0c4ae8e3cdf7",
   "metadata": {},
   "outputs": [
    {
     "data": {
      "text/html": [
       "<div>\n",
       "<style scoped>\n",
       "    .dataframe tbody tr th:only-of-type {\n",
       "        vertical-align: middle;\n",
       "    }\n",
       "\n",
       "    .dataframe tbody tr th {\n",
       "        vertical-align: top;\n",
       "    }\n",
       "\n",
       "    .dataframe thead th {\n",
       "        text-align: right;\n",
       "    }\n",
       "</style>\n",
       "<table border=\"1\" class=\"dataframe\">\n",
       "  <thead>\n",
       "    <tr style=\"text-align: right;\">\n",
       "      <th></th>\n",
       "      <th>Parola</th>\n",
       "      <th>Conteggio</th>\n",
       "    </tr>\n",
       "  </thead>\n",
       "  <tbody>\n",
       "    <tr>\n",
       "      <th>122</th>\n",
       "      <td>come</td>\n",
       "      <td>80</td>\n",
       "    </tr>\n",
       "    <tr>\n",
       "      <th>131</th>\n",
       "      <td>sono</td>\n",
       "      <td>70</td>\n",
       "    </tr>\n",
       "    <tr>\n",
       "      <th>118</th>\n",
       "      <td>quando</td>\n",
       "      <td>54</td>\n",
       "    </tr>\n",
       "    <tr>\n",
       "      <th>132</th>\n",
       "      <td>solo</td>\n",
       "      <td>54</td>\n",
       "    </tr>\n",
       "    <tr>\n",
       "      <th>89</th>\n",
       "      <td>anche</td>\n",
       "      <td>49</td>\n",
       "    </tr>\n",
       "    <tr>\n",
       "      <th>266</th>\n",
       "      <td>ancora</td>\n",
       "      <td>48</td>\n",
       "    </tr>\n",
       "    <tr>\n",
       "      <th>331</th>\n",
       "      <td>tutto</td>\n",
       "      <td>36</td>\n",
       "    </tr>\n",
       "    <tr>\n",
       "      <th>750</th>\n",
       "      <td>boom</td>\n",
       "      <td>36</td>\n",
       "    </tr>\n",
       "    <tr>\n",
       "      <th>97</th>\n",
       "      <td>perché</td>\n",
       "      <td>32</td>\n",
       "    </tr>\n",
       "    <tr>\n",
       "      <th>65</th>\n",
       "      <td>amore</td>\n",
       "      <td>31</td>\n",
       "    </tr>\n",
       "    <tr>\n",
       "      <th>278</th>\n",
       "      <td>siamo</td>\n",
       "      <td>30</td>\n",
       "    </tr>\n",
       "    <tr>\n",
       "      <th>307</th>\n",
       "      <td>bene</td>\n",
       "      <td>24</td>\n",
       "    </tr>\n",
       "    <tr>\n",
       "      <th>11</th>\n",
       "      <td>vita</td>\n",
       "      <td>23</td>\n",
       "    </tr>\n",
       "    <tr>\n",
       "      <th>264</th>\n",
       "      <td>cielo</td>\n",
       "      <td>22</td>\n",
       "    </tr>\n",
       "    <tr>\n",
       "      <th>78</th>\n",
       "      <td>sempre</td>\n",
       "      <td>22</td>\n",
       "    </tr>\n",
       "    <tr>\n",
       "      <th>441</th>\n",
       "      <td>indietro</td>\n",
       "      <td>21</td>\n",
       "    </tr>\n",
       "    <tr>\n",
       "      <th>276</th>\n",
       "      <td>fatto</td>\n",
       "      <td>21</td>\n",
       "    </tr>\n",
       "    <tr>\n",
       "      <th>192</th>\n",
       "      <td>niente</td>\n",
       "      <td>21</td>\n",
       "    </tr>\n",
       "    <tr>\n",
       "      <th>349</th>\n",
       "      <td>senza</td>\n",
       "      <td>21</td>\n",
       "    </tr>\n",
       "    <tr>\n",
       "      <th>323</th>\n",
       "      <td>adesso</td>\n",
       "      <td>21</td>\n",
       "    </tr>\n",
       "  </tbody>\n",
       "</table>\n",
       "</div>"
      ],
      "text/plain": [
       "       Parola  Conteggio\n",
       "122      come         80\n",
       "131      sono         70\n",
       "118    quando         54\n",
       "132      solo         54\n",
       "89      anche         49\n",
       "266    ancora         48\n",
       "331     tutto         36\n",
       "750      boom         36\n",
       "97     perché         32\n",
       "65      amore         31\n",
       "278     siamo         30\n",
       "307      bene         24\n",
       "11       vita         23\n",
       "264     cielo         22\n",
       "78     sempre         22\n",
       "441  indietro         21\n",
       "276     fatto         21\n",
       "192    niente         21\n",
       "349     senza         21\n",
       "323    adesso         21"
      ]
     },
     "execution_count": 243,
     "metadata": {},
     "output_type": "execute_result"
    }
   ],
   "source": [
    "df[[len(x)>3 for x in df['Parola']]].sort_values(by=['Conteggio'],ascending=False).head(20)"
   ]
  },
  {
   "cell_type": "markdown",
   "id": "c579b469-baeb-448e-ad0b-45b7cad139ec",
   "metadata": {},
   "source": [
    "**2. Le possibili squadre del Fantasanremo**"
   ]
  },
  {
   "cell_type": "markdown",
   "id": "c3fedea4-5635-4636-8d09-cbec34b812b5",
   "metadata": {},
   "source": [
    "- Recupero le quotazioni dei singoli artisti:"
   ]
  },
  {
   "cell_type": "code",
   "execution_count": 245,
   "id": "5d8bb2b0-8130-4d8e-a6c2-08e4202f2e16",
   "metadata": {},
   "outputs": [],
   "source": [
    "fanta = bs(requests.get('https://tg24.sky.it/spettacolo/musica/2023/12/28/fantasanremo-quotazioni').content)"
   ]
  },
  {
   "cell_type": "code",
   "execution_count": 312,
   "id": "01390a2a-e0fe-443a-a395-7beee44fb518",
   "metadata": {},
   "outputs": [],
   "source": [
    "cantanti = [x.get_text() for x in fanta.select('div.c-article-section:nth-child(5) ul li')]"
   ]
  },
  {
   "cell_type": "code",
   "execution_count": 314,
   "id": "28e95551-b9ea-44b3-8e9d-f693fbcc7811",
   "metadata": {},
   "outputs": [],
   "source": [
    "for i,x in enumerate(cantanti):\n",
    "    if x[-10] == '.':\n",
    "        cantanti[i] = cantanti[i][:-10] + ':' + cantanti[i][-9:]"
   ]
  },
  {
   "cell_type": "code",
   "execution_count": 316,
   "id": "992c2063-8e3e-43ad-9944-0fbfdb17284b",
   "metadata": {},
   "outputs": [],
   "source": [
    "quote = {}\n",
    "for cantante in cantanti:\n",
    "    nome = re.split(':', cantante)[0].strip()\n",
    "    quota = int(re.split(':', cantante)[1].strip()[:2])\n",
    "    quote[nome] = quota"
   ]
  },
  {
   "cell_type": "code",
   "execution_count": 317,
   "id": "ce5e7315-2c6c-4fca-ab4a-b6b47ae0a996",
   "metadata": {},
   "outputs": [
    {
     "data": {
      "text/plain": [
       "{'Alessandra Amoroso': 23,\n",
       " 'Alfa': 20,\n",
       " 'Angelina Mango': 23,\n",
       " 'Annalisa': 23,\n",
       " 'Big Mama': 17,\n",
       " 'bnkr44': 16,\n",
       " 'Clara': 16,\n",
       " 'Dargen D’Amico': 22,\n",
       " 'Diodato': 21,\n",
       " 'Emma': 23,\n",
       " 'Fiorella Mannoia': 20,\n",
       " 'Fred De Palma': 18,\n",
       " 'Gazzelle': 18,\n",
       " 'Geolier': 22,\n",
       " 'Ghali': 20,\n",
       " 'Il Tre': 17,\n",
       " 'Il Volo': 20,\n",
       " 'Irama': 19,\n",
       " 'La Sad': 19,\n",
       " 'Loredana Berté': 18,\n",
       " 'Mahmood': 21,\n",
       " 'Maninni': 17,\n",
       " 'Mr. Rain': 21,\n",
       " 'Negramaro': 22,\n",
       " 'Renga e Nek': 20,\n",
       " 'Ricchi e Poveri': 18,\n",
       " 'Rose Villain': 19,\n",
       " 'Sangiovanni': 21,\n",
       " 'Santi Francesi': 16,\n",
       " 'The Kolors': 22}"
      ]
     },
     "execution_count": 317,
     "metadata": {},
     "output_type": "execute_result"
    }
   ],
   "source": [
    "quote"
   ]
  },
  {
   "cell_type": "markdown",
   "id": "c0ddefc7-78b4-44d2-afbe-31d1285e6e4f",
   "metadata": {},
   "source": [
    "- Calcolo tutte le possibili squadre e seleziono quelle per cui la somma dei costi sia al più 100:"
   ]
  },
  {
   "cell_type": "code",
   "execution_count": 340,
   "id": "ae3803f8-3895-4c9b-b763-a9a3ead14f56",
   "metadata": {},
   "outputs": [],
   "source": [
    "from itertools import combinations\n",
    "squadre_tot = list(combinations(list(quote.keys()), 5))"
   ]
  },
  {
   "cell_type": "code",
   "execution_count": 347,
   "id": "7efc5afc-96c7-468f-b176-5586c4e44dd8",
   "metadata": {},
   "outputs": [],
   "source": [
    "def somma_squadra(squadra):\n",
    "    somma = 0\n",
    "    for x in squadra:\n",
    "        somma += quote[x]\n",
    "    return somma"
   ]
  },
  {
   "cell_type": "code",
   "execution_count": 369,
   "id": "4decec03-8eb4-4494-814f-43cd97503c99",
   "metadata": {},
   "outputs": [],
   "source": [
    "squadre_possibili = {}\n",
    "for squadra in squadre_tot:\n",
    "    if somma_squadra(squadra) <= 100:\n",
    "        squadre_possibili[squadra] = somma_squadra(squadra)"
   ]
  },
  {
   "cell_type": "code",
   "execution_count": 370,
   "id": "e9c31e40-3e3b-4925-9169-b03914431130",
   "metadata": {},
   "outputs": [
    {
     "data": {
      "text/plain": [
       "92337"
      ]
     },
     "execution_count": 370,
     "metadata": {},
     "output_type": "execute_result"
    }
   ],
   "source": [
    "len(squadre_possibili)"
   ]
  },
  {
   "cell_type": "code",
   "execution_count": null,
   "id": "7ec8e0e8-82be-45f1-9d36-57bba2f0c218",
   "metadata": {},
   "outputs": [],
   "source": []
  }
 ],
 "metadata": {
  "kernelspec": {
   "display_name": "Python 3 (ipykernel)",
   "language": "python",
   "name": "python3"
  },
  "language_info": {
   "codemirror_mode": {
    "name": "ipython",
    "version": 3
   },
   "file_extension": ".py",
   "mimetype": "text/x-python",
   "name": "python",
   "nbconvert_exporter": "python",
   "pygments_lexer": "ipython3",
   "version": "3.12.0"
  }
 },
 "nbformat": 4,
 "nbformat_minor": 5
}
